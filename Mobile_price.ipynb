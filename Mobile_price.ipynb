{
  "nbformat": 4,
  "nbformat_minor": 0,
  "metadata": {
    "colab": {
      "provenance": []
    },
    "kernelspec": {
      "name": "python3",
      "display_name": "Python 3"
    },
    "language_info": {
      "name": "python"
    }
  },
  "cells": [
    {
      "cell_type": "code",
      "source": [
        "import pandas as pd\n",
        "import numpy as np\n",
        "import matplotlib.pyplot as plt\n",
        "from sklearn.model_selection import train_test_split\n",
        "from sklearn.preprocessing import StandardScaler\n",
        "from tensorflow.keras.models import Sequential\n",
        "from tensorflow.keras.layers import Dense, Dropout\n",
        "from tensorflow.keras.callbacks import EarlyStopping"
      ],
      "metadata": {
        "id": "sEsMIqwLXmBy"
      },
      "execution_count": null,
      "outputs": []
    },
    {
      "cell_type": "code",
      "source": [
        "# Load datasets\n",
        "train_df = pd.read_csv('train.csv')\n",
        "test_df = pd.read_csv('test.csv')"
      ],
      "metadata": {
        "id": "bkR4nV2SXqeQ"
      },
      "execution_count": null,
      "outputs": []
    },
    {
      "cell_type": "code",
      "source": [
        "# Display the first few rows of each dataset\n",
        "print(\"Train Data Head:\\n\", train_df.head())\n",
        "print(\"\\nTest Data Head:\\n\", test_df.head())"
      ],
      "metadata": {
        "colab": {
          "base_uri": "https://localhost:8080/"
        },
        "id": "KwB8TDFUX048",
        "outputId": "5e454375-416e-4242-ab9b-572fa773b3a0"
      },
      "execution_count": null,
      "outputs": [
        {
          "output_type": "stream",
          "name": "stdout",
          "text": [
            "Train Data Head:\n",
            "    battery_power  blue  clock_speed  dual_sim  fc  four_g  int_memory  m_dep  \\\n",
            "0            842     0          2.2         0   1       0           7    0.6   \n",
            "1           1021     1          0.5         1   0       1          53    0.7   \n",
            "2            563     1          0.5         1   2       1          41    0.9   \n",
            "3            615     1          2.5         0   0       0          10    0.8   \n",
            "4           1821     1          1.2         0  13       1          44    0.6   \n",
            "\n",
            "   mobile_wt  n_cores  ...  px_height  px_width   ram  sc_h  sc_w  talk_time  \\\n",
            "0        188        2  ...         20       756  2549     9     7         19   \n",
            "1        136        3  ...        905      1988  2631    17     3          7   \n",
            "2        145        5  ...       1263      1716  2603    11     2          9   \n",
            "3        131        6  ...       1216      1786  2769    16     8         11   \n",
            "4        141        2  ...       1208      1212  1411     8     2         15   \n",
            "\n",
            "   three_g  touch_screen  wifi  price_range  \n",
            "0        0             0     1            1  \n",
            "1        1             1     0            2  \n",
            "2        1             1     0            2  \n",
            "3        1             0     0            2  \n",
            "4        1             1     0            1  \n",
            "\n",
            "[5 rows x 21 columns]\n",
            "\n",
            "Test Data Head:\n",
            "    id  battery_power  blue  clock_speed  dual_sim  fc  four_g  int_memory  \\\n",
            "0   1           1043     1          1.8         1  14       0           5   \n",
            "1   2            841     1          0.5         1   4       1          61   \n",
            "2   3           1807     1          2.8         0   1       0          27   \n",
            "3   4           1546     0          0.5         1  18       1          25   \n",
            "4   5           1434     0          1.4         0  11       1          49   \n",
            "\n",
            "   m_dep  mobile_wt  ...  pc  px_height  px_width   ram  sc_h  sc_w  \\\n",
            "0    0.1        193  ...  16        226      1412  3476    12     7   \n",
            "1    0.8        191  ...  12        746       857  3895     6     0   \n",
            "2    0.9        186  ...   4       1270      1366  2396    17    10   \n",
            "3    0.5         96  ...  20        295      1752  3893    10     0   \n",
            "4    0.5        108  ...  18        749       810  1773    15     8   \n",
            "\n",
            "   talk_time  three_g  touch_screen  wifi  \n",
            "0          2        0             1     0  \n",
            "1          7        1             0     0  \n",
            "2         10        0             1     1  \n",
            "3          7        1             1     0  \n",
            "4          7        1             0     1  \n",
            "\n",
            "[5 rows x 21 columns]\n"
          ]
        }
      ]
    },
    {
      "cell_type": "code",
      "source": [
        "# Prepare train features and target\n",
        "X_train = train_df.drop('price_range', axis=1)\n",
        "y_train = train_df['price_range']\n"
      ],
      "metadata": {
        "id": "x67wQfrSX46b"
      },
      "execution_count": null,
      "outputs": []
    },
    {
      "cell_type": "code",
      "source": [
        "# Remove the 'id' column from test features\n",
        "X_test = test_df.drop('id', axis=1)"
      ],
      "metadata": {
        "id": "YSxQ2Nr_YB4G"
      },
      "execution_count": null,
      "outputs": []
    },
    {
      "cell_type": "code",
      "source": [
        "# Standardize features\n",
        "scaler = StandardScaler()\n",
        "X_train_scaled = scaler.fit_transform(X_train)\n",
        "X_test_scaled = scaler.transform(X_test)"
      ],
      "metadata": {
        "id": "3blI8KwzYGpg"
      },
      "execution_count": null,
      "outputs": []
    },
    {
      "cell_type": "code",
      "source": [
        "# Build the model\n",
        "model = Sequential([\n",
        "    Dense(64, activation='relu', input_shape=(X_train_scaled.shape[1],)),\n",
        "    Dropout(0.5),\n",
        "    Dense(32, activation='relu'),\n",
        "    Dropout(0.5),\n",
        "    Dense(8, activation='relu'),\n",
        "    Dense(4, activation='softmax')  # Use softmax for multi-class classification\n",
        "])"
      ],
      "metadata": {
        "id": "BcZPfolhfCCn"
      },
      "execution_count": null,
      "outputs": []
    },
    {
      "cell_type": "code",
      "source": [
        "model.compile(optimizer='adam', loss='sparse_categorical_crossentropy', metrics=['accuracy'])"
      ],
      "metadata": {
        "id": "AQQYzi40fFES"
      },
      "execution_count": null,
      "outputs": []
    },
    {
      "cell_type": "code",
      "source": [
        "# Train the model\n",
        "early_stopping = EarlyStopping(monitor='val_loss', patience=10, restore_best_weights=True)"
      ],
      "metadata": {
        "id": "2yxoAzwyfIoW"
      },
      "execution_count": null,
      "outputs": []
    },
    {
      "cell_type": "code",
      "source": [
        "history = model.fit(X_train_scaled, y_train, epochs=100, batch_size=32,\n",
        "                    validation_split=0.2, callbacks=[early_stopping])"
      ],
      "metadata": {
        "colab": {
          "base_uri": "https://localhost:8080/"
        },
        "id": "6o_yrEUCfRbZ",
        "outputId": "4c930f06-6e9d-43d7-ff5c-48dff374dc75"
      },
      "execution_count": null,
      "outputs": [
        {
          "output_type": "stream",
          "name": "stdout",
          "text": [
            "Epoch 1/100\n",
            "50/50 [==============================] - 2s 13ms/step - loss: 1.4352 - accuracy: 0.2562 - val_loss: 1.3645 - val_accuracy: 0.3050\n",
            "Epoch 2/100\n",
            "50/50 [==============================] - 0s 5ms/step - loss: 1.3703 - accuracy: 0.2981 - val_loss: 1.3195 - val_accuracy: 0.4125\n",
            "Epoch 3/100\n",
            "50/50 [==============================] - 0s 4ms/step - loss: 1.3289 - accuracy: 0.3431 - val_loss: 1.2394 - val_accuracy: 0.5250\n",
            "Epoch 4/100\n",
            "50/50 [==============================] - 0s 6ms/step - loss: 1.2342 - accuracy: 0.4119 - val_loss: 1.0907 - val_accuracy: 0.5625\n",
            "Epoch 5/100\n",
            "50/50 [==============================] - 0s 9ms/step - loss: 1.1171 - accuracy: 0.4762 - val_loss: 0.9137 - val_accuracy: 0.6075\n",
            "Epoch 6/100\n",
            "50/50 [==============================] - 0s 5ms/step - loss: 1.0162 - accuracy: 0.5094 - val_loss: 0.7898 - val_accuracy: 0.6575\n",
            "Epoch 7/100\n",
            "50/50 [==============================] - 0s 5ms/step - loss: 0.9077 - accuracy: 0.5569 - val_loss: 0.7036 - val_accuracy: 0.6850\n",
            "Epoch 8/100\n",
            "50/50 [==============================] - 0s 5ms/step - loss: 0.8281 - accuracy: 0.6081 - val_loss: 0.6377 - val_accuracy: 0.7625\n",
            "Epoch 9/100\n",
            "50/50 [==============================] - 0s 4ms/step - loss: 0.7773 - accuracy: 0.6344 - val_loss: 0.5818 - val_accuracy: 0.8050\n",
            "Epoch 10/100\n",
            "50/50 [==============================] - 0s 4ms/step - loss: 0.7138 - accuracy: 0.6619 - val_loss: 0.5276 - val_accuracy: 0.8225\n",
            "Epoch 11/100\n",
            "50/50 [==============================] - 0s 4ms/step - loss: 0.6808 - accuracy: 0.6925 - val_loss: 0.4888 - val_accuracy: 0.8550\n",
            "Epoch 12/100\n",
            "50/50 [==============================] - 0s 5ms/step - loss: 0.6541 - accuracy: 0.7050 - val_loss: 0.4507 - val_accuracy: 0.8150\n",
            "Epoch 13/100\n",
            "50/50 [==============================] - 0s 6ms/step - loss: 0.5956 - accuracy: 0.7281 - val_loss: 0.4112 - val_accuracy: 0.8400\n",
            "Epoch 14/100\n",
            "50/50 [==============================] - 0s 5ms/step - loss: 0.5557 - accuracy: 0.7437 - val_loss: 0.3854 - val_accuracy: 0.8625\n",
            "Epoch 15/100\n",
            "50/50 [==============================] - 0s 5ms/step - loss: 0.5753 - accuracy: 0.7406 - val_loss: 0.3767 - val_accuracy: 0.8550\n",
            "Epoch 16/100\n",
            "50/50 [==============================] - 0s 4ms/step - loss: 0.5726 - accuracy: 0.7406 - val_loss: 0.3654 - val_accuracy: 0.8850\n",
            "Epoch 17/100\n",
            "50/50 [==============================] - 0s 6ms/step - loss: 0.5320 - accuracy: 0.7625 - val_loss: 0.3556 - val_accuracy: 0.8775\n",
            "Epoch 18/100\n",
            "50/50 [==============================] - 0s 3ms/step - loss: 0.5257 - accuracy: 0.7725 - val_loss: 0.3413 - val_accuracy: 0.8925\n",
            "Epoch 19/100\n",
            "50/50 [==============================] - 0s 3ms/step - loss: 0.4837 - accuracy: 0.7844 - val_loss: 0.3243 - val_accuracy: 0.8850\n",
            "Epoch 20/100\n",
            "50/50 [==============================] - 0s 3ms/step - loss: 0.4729 - accuracy: 0.7937 - val_loss: 0.3103 - val_accuracy: 0.9125\n",
            "Epoch 21/100\n",
            "50/50 [==============================] - 0s 3ms/step - loss: 0.4794 - accuracy: 0.7937 - val_loss: 0.3057 - val_accuracy: 0.9175\n",
            "Epoch 22/100\n",
            "50/50 [==============================] - 0s 4ms/step - loss: 0.4664 - accuracy: 0.8012 - val_loss: 0.3114 - val_accuracy: 0.8650\n",
            "Epoch 23/100\n",
            "50/50 [==============================] - 0s 3ms/step - loss: 0.4353 - accuracy: 0.8188 - val_loss: 0.2925 - val_accuracy: 0.8975\n",
            "Epoch 24/100\n",
            "50/50 [==============================] - 0s 3ms/step - loss: 0.4298 - accuracy: 0.8200 - val_loss: 0.2876 - val_accuracy: 0.9000\n",
            "Epoch 25/100\n",
            "50/50 [==============================] - 0s 3ms/step - loss: 0.4161 - accuracy: 0.8219 - val_loss: 0.2755 - val_accuracy: 0.9300\n",
            "Epoch 26/100\n",
            "50/50 [==============================] - 0s 3ms/step - loss: 0.3881 - accuracy: 0.8425 - val_loss: 0.2626 - val_accuracy: 0.9100\n",
            "Epoch 27/100\n",
            "50/50 [==============================] - 0s 3ms/step - loss: 0.3999 - accuracy: 0.8306 - val_loss: 0.2634 - val_accuracy: 0.9225\n",
            "Epoch 28/100\n",
            "50/50 [==============================] - 0s 3ms/step - loss: 0.3900 - accuracy: 0.8319 - val_loss: 0.2571 - val_accuracy: 0.9075\n",
            "Epoch 29/100\n",
            "50/50 [==============================] - 0s 3ms/step - loss: 0.3895 - accuracy: 0.8344 - val_loss: 0.2459 - val_accuracy: 0.9100\n",
            "Epoch 30/100\n",
            "50/50 [==============================] - 0s 3ms/step - loss: 0.3724 - accuracy: 0.8431 - val_loss: 0.2485 - val_accuracy: 0.9075\n",
            "Epoch 31/100\n",
            "50/50 [==============================] - 0s 3ms/step - loss: 0.3613 - accuracy: 0.8431 - val_loss: 0.2364 - val_accuracy: 0.9325\n",
            "Epoch 32/100\n",
            "50/50 [==============================] - 0s 3ms/step - loss: 0.3656 - accuracy: 0.8475 - val_loss: 0.2298 - val_accuracy: 0.9300\n",
            "Epoch 33/100\n",
            "50/50 [==============================] - 0s 3ms/step - loss: 0.3802 - accuracy: 0.8325 - val_loss: 0.2391 - val_accuracy: 0.9225\n",
            "Epoch 34/100\n",
            "50/50 [==============================] - 0s 3ms/step - loss: 0.3494 - accuracy: 0.8512 - val_loss: 0.2241 - val_accuracy: 0.9150\n",
            "Epoch 35/100\n",
            "50/50 [==============================] - 0s 3ms/step - loss: 0.3227 - accuracy: 0.8700 - val_loss: 0.2186 - val_accuracy: 0.9225\n",
            "Epoch 36/100\n",
            "50/50 [==============================] - 0s 3ms/step - loss: 0.3256 - accuracy: 0.8550 - val_loss: 0.2139 - val_accuracy: 0.9250\n",
            "Epoch 37/100\n",
            "50/50 [==============================] - 0s 3ms/step - loss: 0.3090 - accuracy: 0.8863 - val_loss: 0.2094 - val_accuracy: 0.9150\n",
            "Epoch 38/100\n",
            "50/50 [==============================] - 0s 3ms/step - loss: 0.3201 - accuracy: 0.8650 - val_loss: 0.2114 - val_accuracy: 0.9275\n",
            "Epoch 39/100\n",
            "50/50 [==============================] - 0s 3ms/step - loss: 0.3219 - accuracy: 0.8681 - val_loss: 0.2047 - val_accuracy: 0.9275\n",
            "Epoch 40/100\n",
            "50/50 [==============================] - 0s 3ms/step - loss: 0.3318 - accuracy: 0.8675 - val_loss: 0.2090 - val_accuracy: 0.9300\n",
            "Epoch 41/100\n",
            "50/50 [==============================] - 0s 3ms/step - loss: 0.3170 - accuracy: 0.8662 - val_loss: 0.2015 - val_accuracy: 0.9275\n",
            "Epoch 42/100\n",
            "50/50 [==============================] - 0s 4ms/step - loss: 0.3120 - accuracy: 0.8819 - val_loss: 0.1959 - val_accuracy: 0.9200\n",
            "Epoch 43/100\n",
            "50/50 [==============================] - 0s 3ms/step - loss: 0.3022 - accuracy: 0.8700 - val_loss: 0.2003 - val_accuracy: 0.9275\n",
            "Epoch 44/100\n",
            "50/50 [==============================] - 0s 3ms/step - loss: 0.3051 - accuracy: 0.8712 - val_loss: 0.1945 - val_accuracy: 0.9275\n",
            "Epoch 45/100\n",
            "50/50 [==============================] - 0s 3ms/step - loss: 0.2914 - accuracy: 0.8825 - val_loss: 0.1930 - val_accuracy: 0.9300\n",
            "Epoch 46/100\n",
            "50/50 [==============================] - 0s 3ms/step - loss: 0.2699 - accuracy: 0.8975 - val_loss: 0.2129 - val_accuracy: 0.9125\n",
            "Epoch 47/100\n",
            "50/50 [==============================] - 0s 3ms/step - loss: 0.2639 - accuracy: 0.8975 - val_loss: 0.1963 - val_accuracy: 0.9175\n",
            "Epoch 48/100\n",
            "50/50 [==============================] - 0s 3ms/step - loss: 0.2797 - accuracy: 0.8806 - val_loss: 0.1930 - val_accuracy: 0.9125\n",
            "Epoch 49/100\n",
            "50/50 [==============================] - 0s 4ms/step - loss: 0.2816 - accuracy: 0.8931 - val_loss: 0.1913 - val_accuracy: 0.9175\n",
            "Epoch 50/100\n",
            "50/50 [==============================] - 0s 3ms/step - loss: 0.2924 - accuracy: 0.8794 - val_loss: 0.1945 - val_accuracy: 0.9125\n",
            "Epoch 51/100\n",
            "50/50 [==============================] - 0s 3ms/step - loss: 0.2568 - accuracy: 0.8969 - val_loss: 0.1818 - val_accuracy: 0.9300\n",
            "Epoch 52/100\n",
            "50/50 [==============================] - 0s 3ms/step - loss: 0.2815 - accuracy: 0.8850 - val_loss: 0.1858 - val_accuracy: 0.9200\n",
            "Epoch 53/100\n",
            "50/50 [==============================] - 0s 3ms/step - loss: 0.2708 - accuracy: 0.8881 - val_loss: 0.1835 - val_accuracy: 0.9150\n",
            "Epoch 54/100\n",
            "50/50 [==============================] - 0s 3ms/step - loss: 0.2394 - accuracy: 0.9056 - val_loss: 0.1855 - val_accuracy: 0.9200\n",
            "Epoch 55/100\n",
            "50/50 [==============================] - 0s 4ms/step - loss: 0.2481 - accuracy: 0.9025 - val_loss: 0.1800 - val_accuracy: 0.9250\n",
            "Epoch 56/100\n",
            "50/50 [==============================] - 0s 3ms/step - loss: 0.2357 - accuracy: 0.8994 - val_loss: 0.1837 - val_accuracy: 0.9325\n",
            "Epoch 57/100\n",
            "50/50 [==============================] - 0s 2ms/step - loss: 0.2503 - accuracy: 0.8963 - val_loss: 0.1973 - val_accuracy: 0.9025\n",
            "Epoch 58/100\n",
            "50/50 [==============================] - 0s 3ms/step - loss: 0.2446 - accuracy: 0.8994 - val_loss: 0.1895 - val_accuracy: 0.9275\n",
            "Epoch 59/100\n",
            "50/50 [==============================] - 0s 3ms/step - loss: 0.2497 - accuracy: 0.9013 - val_loss: 0.1734 - val_accuracy: 0.9350\n",
            "Epoch 60/100\n",
            "50/50 [==============================] - 0s 3ms/step - loss: 0.2371 - accuracy: 0.9100 - val_loss: 0.1731 - val_accuracy: 0.9325\n",
            "Epoch 61/100\n",
            "50/50 [==============================] - 0s 3ms/step - loss: 0.2290 - accuracy: 0.9144 - val_loss: 0.1734 - val_accuracy: 0.9300\n",
            "Epoch 62/100\n",
            "50/50 [==============================] - 0s 4ms/step - loss: 0.2384 - accuracy: 0.9025 - val_loss: 0.1708 - val_accuracy: 0.9325\n",
            "Epoch 63/100\n",
            "50/50 [==============================] - 0s 3ms/step - loss: 0.2411 - accuracy: 0.9031 - val_loss: 0.1697 - val_accuracy: 0.9350\n",
            "Epoch 64/100\n",
            "50/50 [==============================] - 0s 3ms/step - loss: 0.2312 - accuracy: 0.9106 - val_loss: 0.1689 - val_accuracy: 0.9225\n",
            "Epoch 65/100\n",
            "50/50 [==============================] - 0s 3ms/step - loss: 0.2460 - accuracy: 0.8981 - val_loss: 0.1672 - val_accuracy: 0.9300\n",
            "Epoch 66/100\n",
            "50/50 [==============================] - 0s 3ms/step - loss: 0.2102 - accuracy: 0.9162 - val_loss: 0.1677 - val_accuracy: 0.9350\n",
            "Epoch 67/100\n",
            "50/50 [==============================] - 0s 3ms/step - loss: 0.2296 - accuracy: 0.9150 - val_loss: 0.1695 - val_accuracy: 0.9275\n",
            "Epoch 68/100\n",
            "50/50 [==============================] - 0s 3ms/step - loss: 0.2320 - accuracy: 0.9131 - val_loss: 0.1704 - val_accuracy: 0.9250\n",
            "Epoch 69/100\n",
            "50/50 [==============================] - 0s 3ms/step - loss: 0.2209 - accuracy: 0.9044 - val_loss: 0.1709 - val_accuracy: 0.9300\n",
            "Epoch 70/100\n",
            "50/50 [==============================] - 0s 3ms/step - loss: 0.2193 - accuracy: 0.9144 - val_loss: 0.1949 - val_accuracy: 0.9125\n",
            "Epoch 71/100\n",
            "50/50 [==============================] - 0s 3ms/step - loss: 0.2084 - accuracy: 0.9169 - val_loss: 0.1873 - val_accuracy: 0.9325\n",
            "Epoch 72/100\n",
            "50/50 [==============================] - 0s 3ms/step - loss: 0.1993 - accuracy: 0.9162 - val_loss: 0.1671 - val_accuracy: 0.9225\n",
            "Epoch 73/100\n",
            "50/50 [==============================] - 0s 3ms/step - loss: 0.1892 - accuracy: 0.9269 - val_loss: 0.1732 - val_accuracy: 0.9325\n",
            "Epoch 74/100\n",
            "50/50 [==============================] - 0s 3ms/step - loss: 0.2237 - accuracy: 0.9062 - val_loss: 0.1658 - val_accuracy: 0.9275\n",
            "Epoch 75/100\n",
            "50/50 [==============================] - 0s 3ms/step - loss: 0.2085 - accuracy: 0.9156 - val_loss: 0.1802 - val_accuracy: 0.9250\n",
            "Epoch 76/100\n",
            "50/50 [==============================] - 0s 3ms/step - loss: 0.2012 - accuracy: 0.9181 - val_loss: 0.1597 - val_accuracy: 0.9325\n",
            "Epoch 77/100\n",
            "50/50 [==============================] - 0s 3ms/step - loss: 0.1834 - accuracy: 0.9344 - val_loss: 0.1673 - val_accuracy: 0.9325\n",
            "Epoch 78/100\n",
            "50/50 [==============================] - 0s 3ms/step - loss: 0.2058 - accuracy: 0.9200 - val_loss: 0.1684 - val_accuracy: 0.9225\n",
            "Epoch 79/100\n",
            "50/50 [==============================] - 0s 3ms/step - loss: 0.2096 - accuracy: 0.9181 - val_loss: 0.1583 - val_accuracy: 0.9375\n",
            "Epoch 80/100\n",
            "50/50 [==============================] - 0s 3ms/step - loss: 0.1944 - accuracy: 0.9337 - val_loss: 0.1591 - val_accuracy: 0.9350\n",
            "Epoch 81/100\n",
            "50/50 [==============================] - 0s 3ms/step - loss: 0.1732 - accuracy: 0.9331 - val_loss: 0.1681 - val_accuracy: 0.9200\n",
            "Epoch 82/100\n",
            "50/50 [==============================] - 0s 3ms/step - loss: 0.1907 - accuracy: 0.9269 - val_loss: 0.1679 - val_accuracy: 0.9250\n",
            "Epoch 83/100\n",
            "50/50 [==============================] - 0s 3ms/step - loss: 0.1917 - accuracy: 0.9231 - val_loss: 0.1657 - val_accuracy: 0.9200\n",
            "Epoch 84/100\n",
            "50/50 [==============================] - 0s 4ms/step - loss: 0.1887 - accuracy: 0.9244 - val_loss: 0.1770 - val_accuracy: 0.9325\n",
            "Epoch 85/100\n",
            "50/50 [==============================] - 0s 4ms/step - loss: 0.2079 - accuracy: 0.9219 - val_loss: 0.1497 - val_accuracy: 0.9350\n",
            "Epoch 86/100\n",
            "50/50 [==============================] - 0s 4ms/step - loss: 0.1872 - accuracy: 0.9331 - val_loss: 0.1451 - val_accuracy: 0.9350\n",
            "Epoch 87/100\n",
            "50/50 [==============================] - 0s 6ms/step - loss: 0.1790 - accuracy: 0.9350 - val_loss: 0.1545 - val_accuracy: 0.9350\n",
            "Epoch 88/100\n",
            "50/50 [==============================] - 0s 4ms/step - loss: 0.1657 - accuracy: 0.9444 - val_loss: 0.1716 - val_accuracy: 0.9325\n",
            "Epoch 89/100\n",
            "50/50 [==============================] - 0s 4ms/step - loss: 0.1814 - accuracy: 0.9375 - val_loss: 0.1622 - val_accuracy: 0.9275\n",
            "Epoch 90/100\n",
            "50/50 [==============================] - 0s 5ms/step - loss: 0.1877 - accuracy: 0.9300 - val_loss: 0.1754 - val_accuracy: 0.9200\n",
            "Epoch 91/100\n",
            "50/50 [==============================] - 0s 5ms/step - loss: 0.1653 - accuracy: 0.9362 - val_loss: 0.1708 - val_accuracy: 0.9300\n",
            "Epoch 92/100\n",
            "50/50 [==============================] - 0s 5ms/step - loss: 0.1761 - accuracy: 0.9312 - val_loss: 0.1721 - val_accuracy: 0.9350\n",
            "Epoch 93/100\n",
            "50/50 [==============================] - 0s 4ms/step - loss: 0.1732 - accuracy: 0.9344 - val_loss: 0.1550 - val_accuracy: 0.9325\n",
            "Epoch 94/100\n",
            "50/50 [==============================] - 0s 5ms/step - loss: 0.1790 - accuracy: 0.9356 - val_loss: 0.1526 - val_accuracy: 0.9275\n",
            "Epoch 95/100\n",
            "50/50 [==============================] - 0s 5ms/step - loss: 0.1757 - accuracy: 0.9306 - val_loss: 0.1506 - val_accuracy: 0.9275\n",
            "Epoch 96/100\n",
            "50/50 [==============================] - 0s 6ms/step - loss: 0.1720 - accuracy: 0.9287 - val_loss: 0.1634 - val_accuracy: 0.9300\n"
          ]
        }
      ]
    },
    {
      "cell_type": "code",
      "source": [
        "# Plot training and validation loss\n",
        "plt.figure(figsize=(12, 6))\n",
        "plt.plot(history.history['loss'], label='Training Loss')\n",
        "plt.plot(history.history['val_loss'], label='Validation Loss')\n",
        "plt.title('Training and Validation Loss')\n",
        "plt.xlabel('Epochs')\n",
        "plt.ylabel('Loss')\n",
        "plt.legend()\n",
        "plt.show()"
      ],
      "metadata": {
        "colab": {
          "base_uri": "https://localhost:8080/",
          "height": 564
        },
        "id": "Z3FppBtFfVX7",
        "outputId": "672ed48a-b3bc-47e8-b1f8-8d5ae321a4c1"
      },
      "execution_count": null,
      "outputs": [
        {
          "output_type": "display_data",
          "data": {
            "text/plain": [
              "<Figure size 1200x600 with 1 Axes>"
            ],
            "image/png": "[encoded data removed]"
          },
          "metadata": {}
        }
      ]
    },
    {
      "cell_type": "code",
      "source": [],
      "metadata": {
        "id": "dgRoc-JrfdzA"
      },
      "execution_count": null,
      "outputs": []
    }
  ]
}